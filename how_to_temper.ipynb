{
 "cells": [
  {
   "cell_type": "markdown",
   "id": "2aaae57f",
   "metadata": {},
   "source": [
    "# How (and why) to use the tempering cycle script"
   ]
  },
  {
   "cell_type": "code",
   "execution_count": 1,
   "id": "dc9931b3",
   "metadata": {},
   "outputs": [],
   "source": [
    "%matplotlib inline\n",
    "import numpy as np\n",
    "import TOFPlanet\n",
    "import ppbs\n",
    "import observables\n",
    "import ahelpers as ah"
   ]
  },
  {
   "cell_type": "markdown",
   "id": "397e42ec",
   "metadata": {},
   "source": [
    "In [how_to_samplify](how_to_samplify.ipynb) we examined the chain from an MCMC run that worked well. In the trace plots we saw robust mixing between walkers and steady coverage of parameter space. The auto-correlation plots then reassured us that we can obtain a sufficiently large _independent_ sample from that single chain, by keeping every $k$-th step from each walker, with $k$ large enough to minimize correlations. We were warned that this ideal situation is not always attainable."
   ]
  },
  {
   "cell_type": "markdown",
   "id": "83486f81",
   "metadata": {},
   "source": [
    "## A bad example"
   ]
  },
  {
   "cell_type": "markdown",
   "id": "d8ef7140",
   "metadata": {},
   "source": [
    "Let's look at the trace plots from a different run. "
   ]
  },
  {
   "cell_type": "code",
   "execution_count": 2,
   "id": "addb885b",
   "metadata": {},
   "outputs": [
    {
     "name": "stdout",
     "output_type": "stream",
     "text": [
      "C.shape = (160, 11000, 8)\n"
     ]
    },
    {
     "data": {
      "image/png": "[encoded data removed]",
      "text/plain": [
       "<Figure size 640x480 with 1 Axes>"
      ]
     },
     "metadata": {},
     "output_type": "display_data"
    }
   ],
   "source": [
    "fname = 'J2_fail.npz'\n",
    "C, L = ah.load_chain(fname)\n",
    "\n",
    "ah.plot_traces(fname, dims=0)"
   ]
  },
  {
   "cell_type": "markdown",
   "id": "0deee8d1",
   "metadata": {},
   "source": [
    "The walkers don't seem to mix at all. In fact, after a burn-in phase they hardly seem to move at all.\n",
    "\n",
    "It is not hard to understand what happened here. In this run the likelihood function was comparing model gravity with observed (actually in this case, hypothetical) gravity with very tight uncertainties. The seed positions have very low likelihood values to start with. There is some initial movement when random steps find higher likelihood positions and the walkers fall into local minima regions. Some of them may even fall into high likelihood positions. But once in a local minimum the tight constraints ensure that even the smallest random step away reduces the likelihood too much to be accepted. The walkers are trapped there.\n",
    "\n",
    "What this means is that of this chain of over 10,000 steps we cannot hope to get more than one independent position per walker. Worse, most of these will be very low likelihood positions, that should not appear at all in a reasonable size sample."
   ]
  },
  {
   "cell_type": "markdown",
   "id": "9a40aa4e",
   "metadata": {},
   "source": [
    "## A different approach"
   ]
  },
  {
   "cell_type": "markdown",
   "id": "2221daa6",
   "metadata": {},
   "source": [
    "As bad as it is, the chain displayed above may in fact contain a few valid models. How can we tell? Well, we have values returned by the log-likelihood function used in the driver. The walkers are stuck so let's look at what value they get stuck in:"
   ]
  },
  {
   "cell_type": "code",
   "execution_count": 3,
   "id": "c2bbe5bb",
   "metadata": {},
   "outputs": [
    {
     "data": {
      "text/plain": [
       "array([-4.35092747e+04,  1.42405887e+01, -1.40075665e+02, -1.56748436e+04,\n",
       "       -1.63126308e+04, -1.76819481e+04, -1.32153521e+03, -2.61385966e+02,\n",
       "       -1.37753928e+03, -7.82363987e+02, -3.70787426e+06, -8.62995924e+04,\n",
       "        1.68029993e+01, -4.58118534e+01, -2.17714862e+03, -1.39915649e+05,\n",
       "       -8.86877924e+03, -4.27296956e+01, -6.02303950e+02, -9.02133502e+01,\n",
       "       -3.93855433e+04,  4.68575180e+00, -4.28144906e+04, -1.62145017e+05,\n",
       "       -1.11859008e+06,  2.27458823e+01, -3.81151728e+10, -9.28618378e-01,\n",
       "       -1.65182050e+04,  1.73694737e+01, -1.30775016e+02, -3.84180252e+02,\n",
       "       -1.99830006e+04, -4.08259517e+06,  2.20276972e+01, -3.98056897e+04,\n",
       "       -8.21077554e+01, -3.13357262e+05, -6.58916064e+04, -1.16426142e+02,\n",
       "       -3.54470441e+01,  1.22815645e+01, -1.55676774e+03, -9.03495245e+03,\n",
       "       -3.36896513e+02,  2.67408526e+00, -1.13111917e+04, -7.93259428e+03,\n",
       "       -9.65281722e+03, -1.04637274e+04,  4.99540114e+00, -7.20357091e+04,\n",
       "       -4.55359604e+04, -5.77195941e+03, -2.75833740e+02,  2.33128586e+01,\n",
       "        2.40244536e+01, -2.04541222e+04,  2.90256375e+00,  4.25682361e+00,\n",
       "       -2.64318817e+03,  2.18566636e+01, -2.29031760e+02, -2.72370623e+03,\n",
       "        1.47782149e+01,  1.72155988e+01, -6.21361075e+01,  1.09860189e+01,\n",
       "       -1.18982717e+12, -5.43952184e+02, -4.57785527e+03, -2.46087699e+03,\n",
       "        1.59671153e+01, -8.96748838e+00, -4.53440597e+03, -8.31417269e+00,\n",
       "       -1.17202716e+03, -2.17614744e+02, -9.40398205e+00, -3.50269490e+02,\n",
       "       -1.74435484e+01, -4.59533809e+04, -1.18869558e+04, -5.89061914e+01,\n",
       "       -5.02509246e+01, -2.99056431e+04, -1.77693703e+02, -2.81788582e+03,\n",
       "       -1.00673827e+05, -4.32695999e+06, -1.46078765e+05, -5.98785973e+01,\n",
       "       -6.88580730e+01,  1.73641579e+01, -2.14520824e+04, -1.35291851e+04,\n",
       "       -9.20337752e+04, -7.60459380e+03, -3.82718575e+03, -5.37378501e+00,\n",
       "       -2.82803469e+04,  2.11986844e+01, -1.01089638e+01, -4.51305251e+01,\n",
       "       -1.26405430e+04, -5.08402653e+06, -1.75778542e+02,  1.03353263e+01,\n",
       "       -2.87560494e+01,  1.25678187e+01, -1.76080079e+04, -2.55231255e+03,\n",
       "       -3.04262985e+02, -1.56541494e+04, -7.60744941e+03, -1.51381452e+04,\n",
       "       -8.03185260e+00, -1.01564141e+03, -1.17267622e+02, -4.81123463e+02,\n",
       "       -2.29909393e+04, -7.32004068e+02,  1.93957663e+01, -3.30249236e+03,\n",
       "       -6.19314699e+02, -1.51524639e+04,  1.47752283e+01, -1.88738680e+01,\n",
       "       -5.26634986e+02, -3.70307102e+05, -3.94095836e+02, -1.20663462e+04,\n",
       "       -7.88352497e+00, -3.15558321e+01, -6.83081755e+03,  1.11548588e+01,\n",
       "        1.12295282e+01, -7.53918084e+03, -4.11001624e+04, -2.14140905e+03,\n",
       "       -3.60606344e+04, -5.58376946e+01,  1.74911763e+01, -7.83993896e+01,\n",
       "        1.45156344e+01, -1.73041873e+01, -2.78498874e+02, -4.03454517e+01,\n",
       "       -9.13013884e+03, -6.71742304e+03, -2.68333260e+02, -1.45198733e+03,\n",
       "       -7.69370118e+01, -3.16898553e+06, -1.43658057e+02, -6.96786478e+05,\n",
       "       -1.24358228e+01, -5.14883913e+01, -2.76049622e+01, -1.45498366e+03])"
      ]
     },
     "execution_count": 3,
     "metadata": {},
     "output_type": "execute_result"
    }
   ],
   "source": [
    "L[:,-1]"
   ]
  },
  {
   "cell_type": "markdown",
   "id": "054dd3d8",
   "metadata": {},
   "source": [
    "Okay, what do these values mean, in terms of how well the corresponding models match the observables? These are the values (in log) of the loss function (the distance between model values and target values, in sigma units) added to the log-prior of the parameter values. Let's look at the most successful walker, and the position it is stuck in."
   ]
  },
  {
   "cell_type": "code",
   "execution_count": 4,
   "id": "e11a48c7",
   "metadata": {},
   "outputs": [
    {
     "name": "stdout",
     "output_type": "stream",
     "text": [
      "best_l=24.024453580833676\n"
     ]
    }
   ],
   "source": [
    "best_w = np.argmax(L[:,-1])\n",
    "best_x = C[best_w, -1, :]\n",
    "best_l = L[best_w, -1]\n",
    "print(f\"{best_l=}\")"
   ]
  },
  {
   "cell_type": "markdown",
   "id": "fad4d7ca",
   "metadata": {},
   "source": [
    "Is that a good match or not? The likelihood value is the sum of the loss function (log) value, a distance in sigma units, plus a prior. So the distance is the likelihood minus the prior:"
   ]
  },
  {
   "cell_type": "code",
   "execution_count": 5,
   "id": "4c5388bd",
   "metadata": {},
   "outputs": [
    {
     "name": "stdout",
     "output_type": "stream",
     "text": [
      "best_logloss=-0.589916412288428\n"
     ]
    }
   ],
   "source": [
    "best_p = ppbs.ppbs_prior_uniform(best_x)\n",
    "best_logloss = best_l - best_p\n",
    "print(f\"{best_logloss=}\")"
   ]
  },
  {
   "cell_type": "markdown",
   "id": "80fd652d",
   "metadata": {},
   "source": [
    "So, is it a good match or not? What is the \"sigma\" equivalent? For a one-dimensional normal, the log-loss function is simply $-\\frac{1}{2}d^2$ where $d$ is the distance in standard deviation units. So a \"2-sigma\" match would show a log-loss value of $-2$. The log-loss above corresponds to a distance of"
   ]
  },
  {
   "cell_type": "code",
   "execution_count": 6,
   "id": "4b098fee",
   "metadata": {},
   "outputs": [
    {
     "name": "stdout",
     "output_type": "stream",
     "text": [
      "best_dist=1.086201097668777\n"
     ]
    }
   ],
   "source": [
    "best_dist = np.sqrt(-2*best_logloss)\n",
    "print(f\"{best_dist=}\")"
   ]
  },
  {
   "cell_type": "markdown",
   "id": "d43b89e6",
   "metadata": {},
   "source": [
    "We may decide that any walker with a best distance value less than some threshold, say, 2.5 sigmas, can be included in the sample. But our loss function is not one-dimensional. In this run I was matching the 1-bar density and $J_2$ values against observables, and the loss function included two normal-like terms. In general the ppbs driver has one term, plus one term for every J value, plus another term is rotation period is also varying. The 2.5 sigma equivalent of a chi squared distribution with two degrees of freedom is"
   ]
  },
  {
   "cell_type": "code",
   "execution_count": 7,
   "id": "ab2300af",
   "metadata": {},
   "outputs": [
    {
     "data": {
      "text/plain": [
       "2.9626005794635026"
      ]
     },
     "execution_count": 7,
     "metadata": {},
     "output_type": "execute_result"
    }
   ],
   "source": [
    "ah._sig2mahal(2.5, 2)"
   ]
  },
  {
   "cell_type": "markdown",
   "id": "8845d2cd",
   "metadata": {},
   "source": [
    "so we can accept the last step from every walker where the log-likelihood is greater than"
   ]
  },
  {
   "cell_type": "code",
   "execution_count": 8,
   "id": "33c5f7e5",
   "metadata": {},
   "outputs": [
    {
     "data": {
      "text/plain": [
       "-4.388501096718741"
      ]
     },
     "execution_count": 8,
     "metadata": {},
     "output_type": "execute_result"
    }
   ],
   "source": [
    "thresh = 2.5 # choose a threshold \"sigma\" equivalent\n",
    "dof = 2 # degrees of freedom (how many Js, plus one for rho0)\n",
    "-0.5*ah._sig2mahal(thresh, dof)**2"
   ]
  },
  {
   "cell_type": "markdown",
   "id": "8baa0d4f",
   "metadata": {},
   "source": [
    "In the chain from the above, failed run, we have"
   ]
  },
  {
   "cell_type": "code",
   "execution_count": 9,
   "id": "5a337a1a",
   "metadata": {},
   "outputs": [
    {
     "data": {
      "text/plain": [
       "8"
      ]
     },
     "execution_count": 9,
     "metadata": {},
     "output_type": "execute_result"
    }
   ],
   "source": [
    "np.size(ah.ppbs_winners(C,L,dof,ppbs.ppbs_prior_uniform,rotflag=True,sig=thresh))"
   ]
  },
  {
   "cell_type": "markdown",
   "id": "c34905dd",
   "metadata": {},
   "source": [
    "parameter vectors that should result in models with acceptable match to observables, even with the tight constraints used. The script `save_ppbs_winners.py` will find the acceptable models at the end of a chain and append them to a text file."
   ]
  },
  {
   "cell_type": "code",
   "execution_count": 10,
   "id": "1fce18c1",
   "metadata": {},
   "outputs": [
    {
     "name": "stdout",
     "output_type": "stream",
     "text": [
      "usage: save_ppbs_winners.py [-h] [-s SEEDFILE] [--J-strict J_STRICT]\n",
      "                            [--J-thresh J_THRESH] [-o OBSERVABLES]\n",
      "                            [--fix-mass FIX_MASS] [--fix-rot FIX_ROT]\n",
      "                            [--preserve-period PRESERVE_PERIOD] [--no-spin]\n",
      "                            [--with-k2] [--toforder {4,7}]\n",
      "                            [--toflevels TOFLEVELS] [--xlevels XLEVELS]\n",
      "                            chainfile outname dof\n",
      "\n",
      "Select winners from tip of emcee chain.\n",
      "\n",
      "positional arguments:\n",
      "  chainfile             npz file with emcee chain\n",
      "  outname               where to append winners to\n",
      "  dof                   how many degrees of freedom in log-like\n",
      "\n",
      "optional arguments:\n",
      "  -h, --help            show this help message and exit\n",
      "  -s SEEDFILE, --seedfile SEEDFILE\n",
      "                        Seed file used by driver (default: None)\n",
      "  --J-strict J_STRICT   passing positive J-strict will require winners to\n",
      "                        satisfy individual J values in addition to chi2\n",
      "                        threshold (default: 0)\n",
      "  --J-thresh J_THRESH   a sigma-threshold for strict J conditions (default:\n",
      "                        2.5)\n",
      "  -o OBSERVABLES, --observables OBSERVABLES\n",
      "                        Observables struct (usually planet name, see\n",
      "                        observables.py for options (default: None)\n",
      "\n",
      "Additional model options:\n",
      "  --fix-mass FIX_MASS   Normalize converged model mass to obs.M (default: 1)\n",
      "  --fix-rot FIX_ROT     Don't sample rotation period (use obs.P instead)\n",
      "                        (default: 1)\n",
      "  --preserve-period PRESERVE_PERIOD\n",
      "                        Iterate on rotation m until rotation period matched\n",
      "                        obs.P. (default: 1)\n",
      "  --no-spin             Make spherical planet (sets obs.P to inf) (default:\n",
      "                        False)\n",
      "  --with-k2             Include tidal k2 calculation (default: False)\n",
      "\n",
      "TOF options:\n",
      "  Options controlling ToF gravity calculation\n",
      "\n",
      "  --toforder {4,7}      Theory of figures expansion order (default: 4)\n",
      "  --toflevels TOFLEVELS\n",
      "                        Number of level surfaces used to discretize density\n",
      "                        profile (default: 4096)\n",
      "  --xlevels XLEVELS     Skip-n-spline levels (default: 128)\n"
     ]
    },
    {
     "data": {
      "text/plain": [
       "<Figure size 640x480 with 0 Axes>"
      ]
     },
     "metadata": {},
     "output_type": "display_data"
    }
   ],
   "source": [
    "%run save_ppbs_winners.py --help"
   ]
  },
  {
   "cell_type": "markdown",
   "id": "013ac49a",
   "metadata": {},
   "source": [
    "## The tempering cycle"
   ]
  },
  {
   "cell_type": "markdown",
   "id": "e3b215d2",
   "metadata": {},
   "source": [
    "So we can get a few good models from that MCMC run. Can we repeat that process and get a few more, _different_ models? If we start with the same seed we'll probably get the same, or at least similar models. The ensemble sampler is stochastic, but we can't assume we would get independent samples that way. What we need is to start each time with a random set of seed positions. The baseline sample file contains more lines than the number of walkers we use, so $w$ lines will be randomly chosen to seed each run. That may not be enough. In addition, we start every tempering cycle by running the mcmc driver with an artificially \"inflated\" likelihood function. We don't have to manually reset the J uncertainty values in the observables. For example,\n",
    "\n",
    "`python drive-ppbs.py <seedfile> 1000 Uranus_b1 -w=160 -j 2 -T=1e3`\n",
    "\n",
    "will run the driver using the requested observables but the sigma-unit square distance of each candidate model will be reduced by a factor of 1000. (You might wonder how improving the likelihood of every model by the same constant factor can help, since MCMC only considers relative likelihoods. But this inflation factor happens in log values.) We know that with suffuciently \"generous\" constraints we can get the walkers to mix well, so at the end of this run we can save the last step from each walker to use as starting positions to the next run. We then reduce the temperature (maybe gradually or maybe in one step, I haven't decided which is better) until with `-T=1` we run with the actual observable constraints. At the end of _that_ run, we can append the acceptable models from the end of the chain to a file, and then repeat the whole process, gradually building up a large sample.\n",
    "\n",
    "This cycle can take a lot of CPU time per successful model, but it can be carried out by many nodes independently, combining their sample files in the end. The [template bash script](ppbs_temper_template.slurm) `ppbs_temper_template.slurm` (it's also a slurm script for clusters that use slurm) can be customized to try out different variations of this cycle."
   ]
  },
  {
   "cell_type": "markdown",
   "id": "155b3e31",
   "metadata": {},
   "source": [
    "## Is this still MCMC?"
   ]
  },
  {
   "cell_type": "markdown",
   "id": "496654ba",
   "metadata": {},
   "source": [
    "Technically, probably not. There is a formally proper MCMC algorithm called parallel ensemble tempering that runs a multi-temperature multi-walker chain and mixes both walkers and temperatures simultaneously in a way that preserves the \"detailed balance\" property of MCMC algorithms. But it has been removed from the emcee package and would be a difficult to implement properly. What we do is somewhat related, at least in spirit, so we are justified in using the temperature and tempering metaphores, but cannot claim that what we end up with is guaranteed to be a correct posterior distribution.\n",
    "\n",
    "But, a proper MCMC algorithm can't guaranetee that either! What I think we can claim is a reasonably thorough exploration of parameter space, that identifies every acceptable model under our constraints. The exact relative probabilities between different models in our sample are not as important, for now."
   ]
  }
 ],
 "metadata": {
  "kernelspec": {
   "display_name": "Python 3 (ipykernel)",
   "language": "python",
   "name": "python3"
  },
  "language_info": {
   "codemirror_mode": {
    "name": "ipython",
    "version": 3
   },
   "file_extension": ".py",
   "mimetype": "text/x-python",
   "name": "python",
   "nbconvert_exporter": "python",
   "pygments_lexer": "ipython3",
   "version": "3.9.16"
  }
 },
 "nbformat": 4,
 "nbformat_minor": 5
}
