{
 "cells": [
  {
   "cell_type": "markdown",
   "id": "f130ba9c",
   "metadata": {},
   "source": [
    "# Generic PIPE workspace"
   ]
  },
  {
   "cell_type": "code",
   "execution_count": 1,
   "id": "c1fc0689",
   "metadata": {},
   "outputs": [],
   "source": [
    "%matplotlib inline\n",
    "import numpy as np\n",
    "import observables\n",
    "import ppwd\n",
    "import TOFPlanet\n",
    "import generic_priors\n",
    "import losses\n",
    "import ahelpers as ah\n",
    "import samplooker as spl"
   ]
  }
 ],
 "metadata": {
  "kernelspec": {
   "display_name": "Python 3 (ipykernel)",
   "language": "python",
   "name": "python3"
  },
  "language_info": {
   "codemirror_mode": {
    "name": "ipython",
    "version": 3
   },
   "file_extension": ".py",
   "mimetype": "text/x-python",
   "name": "python",
   "nbconvert_exporter": "python",
   "pygments_lexer": "ipython3",
   "version": "3.9.7"
  }
 },
 "nbformat": 4,
 "nbformat_minor": 5
}
