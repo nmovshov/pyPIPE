{
 "cells": [
  {
   "cell_type": "code",
   "execution_count": 1,
   "metadata": {},
   "outputs": [],
   "source": [
    "import ppwd, TOFPlanet, pickle\n",
    "import numpy as np\n",
    "import matplotlib.pyplot as plt\n",
    "plt.style.use('dark_background')"
   ]
  },
  {
   "cell_type": "code",
   "execution_count": 10,
   "metadata": {},
   "outputs": [],
   "source": [
    "X = np.loadtxt('u_winners/uranus_J2_deg8_1.txt')\n",
    "from observables import Uranus as obs\n",
    "p = ppwd.ppwd_planet(4096, X[0,:], obs, xlevels=256)\n",
    "with open('u_winners/uranus_J2_deg8_1_planets.pickle','rb') as f:\n",
    "    planets = pickle.load(f)\n"
   ]
  },
  {
   "cell_type": "code",
   "execution_count": 24,
   "metadata": {},
   "outputs": [
    {
     "data": {
      "image/png": "[encoded data removed]",
      "text/plain": [
       "<Figure size 432x288 with 1 Axes>"
      ]
     },
     "metadata": {},
     "output_type": "display_data"
    }
   ],
   "source": [
    "j2 = [p.Js[1] for p in planets]\n",
    "obs_j2 = np.full(len(j2), obs.J2)\n",
    "obs_dj2 = np.full(len(j2), obs.dJ2)\n",
    "plt.hist((abs(j2 - obs_j2) / obs_j2)*100, bins=50, color='steelblue')\n",
    "plt.xlabel('J2 % Error')\n",
    "plt.ylabel('# of Planets')\n",
    "plt.savefig('uj2d8_hist.JPEG')"
   ]
  },
  {
   "cell_type": "code",
   "execution_count": null,
   "metadata": {},
   "outputs": [],
   "source": []
  }
 ],
 "metadata": {
  "kernelspec": {
   "display_name": "Python 3",
   "language": "python",
   "name": "python3"
  },
  "language_info": {
   "codemirror_mode": {
    "name": "ipython",
    "version": 3
   },
   "file_extension": ".py",
   "mimetype": "text/x-python",
   "name": "python",
   "nbconvert_exporter": "python",
   "pygments_lexer": "ipython3",
   "version": "3.8.5"
  }
 },
 "nbformat": 4,
 "nbformat_minor": 4
}
