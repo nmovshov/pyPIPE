{
 "cells": [
  {
   "cell_type": "code",
   "execution_count": null,
   "id": "6c3a1403",
   "metadata": {
    "ExecuteTime": {
     "end_time": "2022-08-10T02:44:37.309175Z",
     "start_time": "2022-08-10T02:44:36.277907Z"
    }
   },
   "outputs": [],
   "source": [
    "import numpy as np\n",
    "import matplotlib.pyplot as plt\n",
    "import samplooker as slook\n",
    "import pickle, TOFPlanet, ppwd\n",
    "import scipy as sp\n",
    "from scipy import stats\n",
    "from scipy.stats import norm\n",
    "import statistics\n",
    "%matplotlib inline\n",
    "plt.style.use('seaborn-white')"
   ]
  },
  {
   "cell_type": "code",
   "execution_count": null,
   "id": "19cf2403",
   "metadata": {
    "ExecuteTime": {
     "end_time": "2022-08-10T02:44:37.324134Z",
     "start_time": "2022-08-10T02:44:37.310171Z"
    }
   },
   "outputs": [],
   "source": [
    "def load_planets(fname):\n",
    "    with open(fname, 'rb') as f:\n",
    "        planets = pickle.load(f)\n",
    "        print(f\"Found {len(planets)} planets in {fname}.\")\n",
    "    return planets"
   ]
  },
  {
   "cell_type": "code",
   "execution_count": null,
   "id": "17610208",
   "metadata": {
    "ExecuteTime": {
     "end_time": "2022-08-10T02:44:37.339095Z",
     "start_time": "2022-08-10T02:44:37.325131Z"
    }
   },
   "outputs": [],
   "source": [
    "def hist_moi(fname, title, newfig=False, bins='auto', density=True, **kwargs):\n",
    "    # Prepare the data\n",
    "    planets = load_planets(fname)\n",
    "    ice = np.array([p.NMoI for p in planets])\n",
    "    # Fit a normal distribution to the data: mean and standard deviation\n",
    "    mu, std = norm.fit(ice)\n",
    "    # Plot the PDF\n",
    "    x = np.linspace(0.215, 0.235, 1000)\n",
    "    p = norm.pdf(x, mu, std)\n",
    "    # Plot the histogram\n",
    "    plt.hist(ice, bins=bins, density=density, **kwargs,)\n",
    "    # Plot the fit\n",
    "    plt.plot(x, p, label=['mu= {:.5f}'.format(mu), 'std= {:.6f}'.format(std)], color='red')\n",
    "    plt.title(title)\n",
    "    plt.xlabel(r'Normalized moment of inertia, $I/Ma_0^2$')\n",
    "    plt.xlim(0.215, 0.235)\n",
    "    plt.savefig(title, dpi=300)\n",
    "    plt.legend()\n",
    "    plt.show()"
   ]
  },
  {
   "cell_type": "code",
   "execution_count": null,
   "id": "27d0de24",
   "metadata": {
    "ExecuteTime": {
     "end_time": "2022-08-10T02:44:37.355053Z",
     "start_time": "2022-08-10T02:44:37.340091Z"
    }
   },
   "outputs": [],
   "source": [
    "def hist_J2(fname, title, newfig=False, bins='auto', density=True, **kwargs):\n",
    "    # Prepare the data\n",
    "    planets = load_planets(fname)\n",
    "    J2 = np.array([p.Js[1] for p in planets])\n",
    "    # Fit a normal distribution to the data: mean and standard deviation\n",
    "    mu, std = norm.fit(J2)\n",
    "    # Plot the PDF\n",
    "    x = np.linspace(min(J2), max(J2), 1000)\n",
    "    p = norm.pdf(x, mu, std)\n",
    "    # Plot the histogram\n",
    "    plt.hist(J2, bins=bins, density=density, **kwargs)\n",
    "    # Plot the fit\n",
    "    plt.plot(x, p, label=['mu= {:.5f}'.format(mu), 'std= {:.6f}'.format(std)], color='red')\n",
    "    plt.title(title)\n",
    "    plt.xlabel('J2')\n",
    "    plt.xlim(min(J2), max(J2))\n",
    "    plt.savefig(title, dpi=300)\n",
    "    plt.legend()\n",
    "    plt.show()"
   ]
  },
  {
   "cell_type": "code",
   "execution_count": null,
   "id": "e90f3e7e",
   "metadata": {
    "ExecuteTime": {
     "end_time": "2022-08-10T02:44:37.371010Z",
     "start_time": "2022-08-10T02:44:37.356049Z"
    }
   },
   "outputs": [],
   "source": [
    "uj0_deg4 = 'uranus/samples/deg4_observables_J0_planets.pickle'\n",
    "uj2_deg4 = 'uranus/samples/deg4_observables_J2_planets.pickle'\n",
    "uj0_deg6 = 'uranus/samples/deg6_observables_J0_planets.pickle'\n",
    "uj2_deg6 = 'uranus/samples/deg6_observables_J2_planets.pickle'\n",
    "uj0_deg8 = 'uranus/samples/deg8_observables_J0_planets.pickle'\n",
    "uj2_deg8 = 'uranus/samples/deg8_observables_J2_planets.pickle'"
   ]
  },
  {
   "cell_type": "code",
   "execution_count": null,
   "id": "d65a1e58",
   "metadata": {
    "ExecuteTime": {
     "end_time": "2022-08-10T02:44:41.305059Z",
     "start_time": "2022-08-10T02:44:37.372006Z"
    }
   },
   "outputs": [],
   "source": [
    "hist_moi(uj0_deg4, 'Uranus MoI J0 Degree 4')\n",
    "hist_moi(uj2_deg4, 'Uranus MoI J2 Degree 4')\n",
    "hist_moi(uj0_deg6, 'Uranus MoI J0 Degree 6')\n",
    "hist_moi(uj2_deg6, 'Uranus MoI J2 Degree 6')\n",
    "hist_moi(uj0_deg8, 'Uranus MoI J0 Degree 8')\n",
    "hist_moi(uj2_deg8, 'Uranus MoI J2 Degree 8')"
   ]
  },
  {
   "cell_type": "code",
   "execution_count": null,
   "id": "7bdfdbbc",
   "metadata": {
    "ExecuteTime": {
     "end_time": "2022-08-10T02:44:45.073520Z",
     "start_time": "2022-08-10T02:44:41.307051Z"
    }
   },
   "outputs": [],
   "source": [
    "hist_J2(uj0_deg4, 'J0 Degree 4')\n",
    "hist_J2(uj2_deg4, 'J2 Degree 4')\n",
    "hist_J2(uj0_deg6, 'J0 Degree 6')\n",
    "hist_J2(uj2_deg6, 'J2 Degree 6')\n",
    "hist_J2(uj0_deg8, 'J0 Degree 8')\n",
    "hist_J2(uj2_deg8, 'J2 Degree 8')"
   ]
  },
  {
   "cell_type": "code",
   "execution_count": null,
   "id": "be360fb7",
   "metadata": {},
   "outputs": [],
   "source": []
  }
 ],
 "metadata": {
  "kernelspec": {
   "display_name": "Python 3",
   "language": "python",
   "name": "python3"
  },
  "language_info": {
   "codemirror_mode": {
    "name": "ipython",
    "version": 3
   },
   "file_extension": ".py",
   "mimetype": "text/x-python",
   "name": "python",
   "nbconvert_exporter": "python",
   "pygments_lexer": "ipython3",
   "version": "3.8.8"
  }
 },
 "nbformat": 4,
 "nbformat_minor": 5
}
