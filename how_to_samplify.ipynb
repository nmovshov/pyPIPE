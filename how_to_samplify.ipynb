{
 "cells": [
  {
   "cell_type": "markdown",
   "id": "f130ba9c",
   "metadata": {},
   "source": [
    "# How to use the MCMC output file"
   ]
  },
  {
   "cell_type": "code",
   "execution_count": 6,
   "id": "c1fc0689",
   "metadata": {},
   "outputs": [],
   "source": [
    "%matplotlib inline\n",
    "import numpy as np\n",
    "import TOFPlanet\n",
    "import ppbs\n",
    "import observables\n",
    "import ahelpers as ah\n",
    "import samplooker as spl"
   ]
  },
  {
   "cell_type": "markdown",
   "id": "131cdad9",
   "metadata": {},
   "source": [
    "When the MCMC driver finished its job, it saves the resulting chain-ensemble in the file `final.npz` in the run directory. The periodic checkpoints in `dump0.npz` and `dump1.npz` have the same format. Let's look at an example."
   ]
  },
  {
   "cell_type": "code",
   "execution_count": 7,
   "id": "35f52c87",
   "metadata": {},
   "outputs": [
    {
     "name": "stdout",
     "output_type": "stream",
     "text": [
      "C.shape=(160, 4400, 8)\n",
      "L.shape=(160, 4400)\n"
     ]
    }
   ],
   "source": [
    "fname = 'final.npz'\n",
    "C, L = ah.load_chain(fname)\n",
    "print(f'{C.shape=}')\n",
    "print(f'{L.shape=}')"
   ]
  },
  {
   "cell_type": "markdown",
   "id": "4e1988ad",
   "metadata": {},
   "source": [
    "The array `C`, for \"chains,\" has all the numbers you need to define the planet models. Its shape is `w`, number of \"walkers\", by `n`, number of steps, by `d`, number of dimensions. For example this file is the output of a `drive-ppbs.py` run. The ppbs parameerization has 8 dimensions (plus potentially rotation period, which in this run was kept constant). This was a run of 160 walkers, taking 4400 steps each. A vector of parameters for one planet will be something like, say, `C[2,24,:]`, meaning the 25th step of the third walker. The walkers are a feature of the so-called \"ensemble\" MCMC algorithm. We need the walker-by-walker data only to diagnose sampling problems and figure out auto-correlation distance. Afterwards we will forget about walkers and end up with an array of something-by-8, of (hopefully) independent samples.\n",
    "\n",
    "The array `L`, for \"likelihood,\" has the likelihood values for each step of each walker. This is sometimes needed for debugging and diagnosing issues, or for detecting outliers."
   ]
  }
 ],
 "metadata": {
  "kernelspec": {
   "display_name": "Python 3 (ipykernel)",
   "language": "python",
   "name": "python3"
  },
  "language_info": {
   "codemirror_mode": {
    "name": "ipython",
    "version": 3
   },
   "file_extension": ".py",
   "mimetype": "text/x-python",
   "name": "python",
   "nbconvert_exporter": "python",
   "pygments_lexer": "ipython3",
   "version": "3.9.16"
  }
 },
 "nbformat": 4,
 "nbformat_minor": 5
}
